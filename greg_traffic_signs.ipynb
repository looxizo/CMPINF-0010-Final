{
 "cells": [
  {
   "cell_type": "code",
   "execution_count": 32,
   "metadata": {},
   "outputs": [
    {
     "name": "stdout",
     "output_type": "stream",
     "text": [
      "Good Signs:\n",
      "No Pedestrians 321\n",
      "No Parking Or Stopping 2881\n",
      "\n",
      "Bad Signs:\n",
      "Stop 8381\n",
      "School 346\n",
      "Yield 158\n",
      "Blind Pedestrian Crossing 24\n",
      "Slow Streets 128\n"
     ]
    }
   ],
   "source": [
    "import pandas as pd\n",
    "\n",
    "df = pd.read_csv(\"traffic_signs.csv\")\n",
    "good_signs = [\"No Pedestrians\", \"No Parking Or Stopping\"]\n",
    "bad_signs = [\"Stop\", \"School\", \"Yield\", \"Blind Pedestrian Crossing\", \"Slow Streets\"]\n",
    "#for i in df.description.unique():\n",
    "    #if \"parking\" in str(i).lower():\n",
    "    \n",
    "print(\"Good Signs:\")\n",
    "for s in good_signs:\n",
    "    print(s, df.description.value_counts()[s])\n",
    "    \n",
    "print(\"\\nBad Signs:\")\n",
    "for s in bad_signs:\n",
    "    print(s, df.description.value_counts()[s])"
   ]
  },
  {
   "cell_type": "code",
   "execution_count": null,
   "metadata": {},
   "outputs": [],
   "source": []
  }
 ],
 "metadata": {
  "kernelspec": {
   "display_name": "Python 3",
   "language": "python",
   "name": "python3"
  },
  "language_info": {
   "codemirror_mode": {
    "name": "ipython",
    "version": 3
   },
   "file_extension": ".py",
   "mimetype": "text/x-python",
   "name": "python",
   "nbconvert_exporter": "python",
   "pygments_lexer": "ipython3",
   "version": "3.8.3"
  }
 },
 "nbformat": 4,
 "nbformat_minor": 4
}
