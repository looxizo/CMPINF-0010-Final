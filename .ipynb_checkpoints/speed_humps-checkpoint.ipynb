{
 "cells": [
  {
   "cell_type": "markdown",
   "metadata": {},
   "source": [
    "First, I have to import Pandas and read in the data from a CSV file into a dataframe."
   ]
  },
  {
   "cell_type": "code",
   "execution_count": 81,
   "metadata": {},
   "outputs": [],
   "source": [
    "import pandas as pd\n",
    "from matplotlib import pyplot\n",
    "%matplotlib inline\n",
    "\n",
    "speed_humps = pd.read_csv('speed_humps.csv')"
   ]
  },
  {
   "cell_type": "markdown",
   "metadata": {},
   "source": [
    "The next step is to figure out how many speed bumps are in each neighborhood, which can be done with the groupby function in combination with the count aggregate function. While most of the speed bumps in this dataset have a material of \"Asphalt,\" some are listed with a \"None\" material, which effectively aren't speed bumps and therefore need to be filtered out."
   ]
  },
  {
   "cell_type": "code",
   "execution_count": 72,
   "metadata": {},
   "outputs": [
    {
     "name": "stdout",
     "output_type": "stream",
     "text": [
      "           neighborhood  speed_bumps\n",
      "0            Bloomfield            3\n",
      "1             Brookline            4\n",
      "2               Carrick            8\n",
      "3       Central Oakland            1\n",
      "4              Garfield            3\n",
      "5         Highland Park            2\n",
      "6        Homewood South            4\n",
      "7      Mount Washington            3\n",
      "8         North Oakland            5\n",
      "9             Overbrook            1\n",
      "10          Perry North            4\n",
      "11          Polish Hill            6\n",
      "12     South Side Flats            3\n",
      "13    South Side Slopes            4\n",
      "14  Squirrel Hill North            1\n",
      "15  Squirrel Hill South           17\n",
      "16      Stanton Heights            1\n",
      "17           Upper Hill            4\n"
     ]
    }
   ],
   "source": [
    "nbhd_counts = speed_humps.groupby(['neighborhood'])['speed_hump_material'].count().reset_index(name='speed_bumps')"
   ]
  },
  {
   "cell_type": "markdown",
   "metadata": {},
   "source": [
    "Now that I've calculated the total number of speed bumps in each neighborhood, I need to figure out the size of each neighborhood to assign appropriate weights. After all, the driving quality of a neighborhood is dependent on its speed bump *density*, not just the overall quantity. To do this, I'll be using a different CSV containing the square footage of each neighborhood and merging it with `nbhd_counts` before storing the calculated densities in a dictionary."
   ]
  },
  {
   "cell_type": "code",
   "execution_count": 73,
   "metadata": {},
   "outputs": [],
   "source": [
    "nbhds = pd.read_csv('neighborhoods.csv').loc[:,['hood','sqmiles']]\n",
    "merged_nbhds = pd.merge(nbhd_counts,nbhds,left_on='neighborhood',right_on='hood')\n",
    "speed_bump_density = {}\n",
    "for index, row in merged_nbhds.iterrows():\n",
    "    if row['sqmiles']:\n",
    "        speed_bump_density[row['neighborhood']] = row['speed_bumps']/row['sqmiles']"
   ]
  },
  {
   "cell_type": "markdown",
   "metadata": {},
   "source": [
    "Finally, we can visualize the densities (speed bumps per square mile) for each neighborhood by converting the dictionary to a series and plotting it as a bar graph."
   ]
  },
  {
   "cell_type": "code",
   "execution_count": 86,
   "metadata": {},
   "outputs": [
    {
     "data": {
      "image/png": "[encoded data removed]",
      "text/plain": [
       "<Figure size 432x288 with 1 Axes>"
      ]
     },
     "metadata": {
      "needs_background": "light"
     },
     "output_type": "display_data"
    }
   ],
   "source": [
    "speed_bump_density_series = pd.Series(speed_bump_density)\n",
    "bar_graph = speed_bump_density_series.sort_values().plot(kind='bar')"
   ]
  }
 ],
 "metadata": {
  "kernelspec": {
   "display_name": "Python 3",
   "language": "python",
   "name": "python3"
  },
  "language_info": {
   "codemirror_mode": {
    "name": "ipython",
    "version": 3
   },
   "file_extension": ".py",
   "mimetype": "text/x-python",
   "name": "python",
   "nbconvert_exporter": "python",
   "pygments_lexer": "ipython3",
   "version": "3.8.3"
  }
 },
 "nbformat": 4,
 "nbformat_minor": 4
}
